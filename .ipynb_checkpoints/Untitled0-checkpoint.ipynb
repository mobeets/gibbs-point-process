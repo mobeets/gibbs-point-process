{
 "metadata": {
  "name": "",
  "signature": "sha256:b598871feede0da8438a67cf5a689d8dc25f43fe8980bb3a3bda5c7e24cd96d9"
 },
 "nbformat": 3,
 "nbformat_minor": 0,
 "worksheets": [
  {
   "cells": [
    {
     "cell_type": "code",
     "collapsed": false,
     "input": [
      "%matplotlib inline"
     ],
     "language": "python",
     "metadata": {},
     "outputs": [],
     "prompt_number": 1
    },
    {
     "cell_type": "code",
     "collapsed": false,
     "input": [
      "import numpy as np\n",
      "import scipy.stats\n",
      "import matplotlib.pyplot as plt\n",
      "from scipy.optimize import minimize\n",
      "\n",
      "from fano import spike_stats"
     ],
     "language": "python",
     "metadata": {},
     "outputs": [],
     "prompt_number": 2
    },
    {
     "cell_type": "code",
     "collapsed": false,
     "input": [
      "n = 10000\n",
      "lm = 0.05\n",
      "Y = np.random.poisson(lm, n)\n",
      "print Y.min(), Y.max()\n",
      "print '# spikes = {0}'.format(Y.sum())\n",
      "print 'spike rate = {0}'.format(lm)\n",
      "print 1.0*Y.sum() / n\n",
      "\n",
      "def nLL(r, Y=Y):\n",
      "    rv = scipy.stats.poisson(r)\n",
      "    return -np.array([rv.pmf(y) for y in Y]).sum()\n",
      "LL = lambda r, Y=Y: [scipy.stats.poisson(r).pmf()"
     ],
     "language": "python",
     "metadata": {},
     "outputs": [
      {
       "output_type": "stream",
       "stream": "stdout",
       "text": [
        "0 3\n",
        "# spikes = 516\n",
        "spike rate = 0.05\n",
        "0.0516\n"
       ]
      }
     ],
     "prompt_number": 26
    },
    {
     "cell_type": "code",
     "collapsed": false,
     "input": [],
     "language": "python",
     "metadata": {},
     "outputs": []
    }
   ],
   "metadata": {}
  }
 ]
}