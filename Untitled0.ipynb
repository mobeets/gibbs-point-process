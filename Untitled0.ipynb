{
 "metadata": {
  "name": "",
  "signature": "sha256:845a9bebdf4230fb69fdb87edd572dd5bfc01d01888fbf15db645330e457a0f9"
 },
 "nbformat": 3,
 "nbformat_minor": 0,
 "worksheets": [
  {
   "cells": [
    {
     "cell_type": "code",
     "collapsed": false,
     "input": [
      "%matplotlib inline"
     ],
     "language": "python",
     "metadata": {},
     "outputs": [],
     "prompt_number": 1
    },
    {
     "cell_type": "code",
     "collapsed": false,
     "input": [
      "import numpy as np\n",
      "import scipy.stats\n",
      "import matplotlib.pyplot as plt\n",
      "from scipy.optimize import minimize\n",
      "\n",
      "from fano import spike_stats"
     ],
     "language": "python",
     "metadata": {},
     "outputs": [],
     "prompt_number": 28
    },
    {
     "cell_type": "code",
     "collapsed": false,
     "input": [
      "n = 10000\n",
      "lm = 0.5\n",
      "Y = np.random.poisson(lm, n)\n",
      "print Y.min(), Y.max()\n",
      "print '# spikes = {0}'.format(Y.sum())\n",
      "print 'spike rate = {0}'.format(lm)\n",
      "print 1.0*Y.sum() / n\n",
      "\n",
      "def nLL(r, Y=Y):\n",
      "    rv = scipy.stats.poisson(r)\n",
      "    return -np.array([rv.logpmf(y) for y in Y]).sum()\n",
      "# print [nLL(x) for x in np.linspace(0,1,5)]\n",
      "th = minimize(nLL, 1, bounds=[(1e-5, None)])\n",
      "print th"
     ],
     "language": "python",
     "metadata": {},
     "outputs": [
      {
       "output_type": "stream",
       "stream": "stdout",
       "text": [
        "0 4\n",
        "# spikes = 4941\n",
        "spike rate = 0.5\n",
        "0.4941\n",
        "  status: 0\n",
        " success: True\n",
        "    nfev: 24\n",
        "     fun: 9230.5479592005559\n",
        "       x: array([ 0.49410245])\n",
        " message: 'CONVERGENCE: REL_REDUCTION_OF_F_<=_FACTR*EPSMCH'\n",
        "     jac: array([-0.09222276])\n",
        "     nit: 5"
       ]
      },
      {
       "output_type": "stream",
       "stream": "stdout",
       "text": [
        "\n"
       ]
      }
     ],
     "prompt_number": 37
    },
    {
     "cell_type": "code",
     "collapsed": false,
     "input": [],
     "language": "python",
     "metadata": {},
     "outputs": []
    }
   ],
   "metadata": {}
  }
 ]
}